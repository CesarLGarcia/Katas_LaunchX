{
 "cells": [
  {
   "cell_type": "markdown",
   "metadata": {},
   "source": [
    "# Ejercico 1"
   ]
  },
  {
   "cell_type": "code",
   "execution_count": 10,
   "metadata": {},
   "outputs": [
    {
     "name": "stdout",
     "output_type": "stream",
     "text": [
      "Todo bien\n"
     ]
    }
   ],
   "source": [
    "VelocidadAsteroide = 49\n",
    "if VelocidadAsteroide > 25:\n",
    "    print(\"Vas muy rápido\")\n",
    "else:\n",
    "     print(\"Todo bien\")\n"
   ]
  },
  {
   "cell_type": "markdown",
   "metadata": {},
   "source": [
    "# Ejercico 2"
   ]
  },
  {
   "cell_type": "code",
   "execution_count": 12,
   "metadata": {},
   "outputs": [
    {
     "name": "stdout",
     "output_type": "stream",
     "text": [
      "¡Mira al Cielo!\n"
     ]
    }
   ],
   "source": [
    "AsteroideCielo = 19\n",
    "if AsteroideCielo > 20:\n",
    "    print(\"¡Mira al cielo!\")\n",
    "elif AsteroideCielo == 20:\n",
    "    print(\"¡Mira al Cielo!\")\n",
    "else:\n",
    "    print(\"Nada que ver\" )"
   ]
  },
  {
   "cell_type": "markdown",
   "metadata": {},
   "source": [
    "# Ejercico 3"
   ]
  },
  {
   "cell_type": "code",
   "execution_count": 17,
   "metadata": {},
   "outputs": [
    {
     "name": "stdout",
     "output_type": "stream",
     "text": [
      "Estamos en peligro\n"
     ]
    }
   ],
   "source": [
    "velocidad_asteroide = 14\n",
    "tamano_asteroide = 40\n",
    "if velocidad_asteroide > 25 and tamano_asteroide > 25:\n",
    "    print(\"Estamos en peligro\")\n",
    "elif velocidad_asteroide < 25 and tamano_asteroide > 25:\n",
    "    print(\"Estamos en peligro\")\n",
    "elif velocidad_asteroide >= 20:\n",
    "    print(\"¡Mira al cielo!\")\n",
    "elif tamano_asteroide < 25:\n",
    "    print(\"Nada que ver\")\n",
    "else:\n",
    "    print(\"Nada que ver\")"
   ]
  }
 ],
 "metadata": {
  "interpreter": {
   "hash": "669f5abd92f1a410df15b0643b9f42360e277a412fc08ae8bc7d7911cf7e8f3d"
  },
  "kernelspec": {
   "display_name": "Python 3.10.2 64-bit",
   "language": "python",
   "name": "python3"
  },
  "language_info": {
   "codemirror_mode": {
    "name": "ipython",
    "version": 3
   },
   "file_extension": ".py",
   "mimetype": "text/x-python",
   "name": "python",
   "nbconvert_exporter": "python",
   "pygments_lexer": "ipython3",
   "version": "3.10.2"
  },
  "orig_nbformat": 4
 },
 "nbformat": 4,
 "nbformat_minor": 2
}
