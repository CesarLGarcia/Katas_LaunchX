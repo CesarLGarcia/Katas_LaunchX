{
 "cells": [
  {
   "cell_type": "markdown",
   "metadata": {},
   "source": [
    "# Ejercicio 1"
   ]
  },
  {
   "cell_type": "code",
   "execution_count": 5,
   "metadata": {},
   "outputs": [
    {
     "name": "stdout",
     "output_type": "stream",
     "text": [
      "Fuel Report:\n",
      "    Total Average: 70.33333333333333%\n",
      "    Main tank: 50%\n",
      "    External tank: 72%\n",
      "    Hydrogen tank: 89% \n",
      "    \n",
      "Fuel Report:\n",
      "    Total Average: 72.0%\n",
      "    Main tank: 82%\n",
      "    External tank: 62%\n",
      "    Hydrogen tank: 72% \n",
      "    \n"
     ]
    }
   ],
   "source": [
    "def generate_report(tanque_1, tanque_2, tanque_3):\n",
    "    total_average = (tanque_1 + tanque_2 + tanque_3) / 3\n",
    "    return f\"\"\"Fuel Report:\n",
    "    Total Average: {total_average}%\n",
    "    Main tank: {tanque_1}%\n",
    "    External tank: {tanque_2}%\n",
    "    Hydrogen tank: {tanque_3}% \n",
    "    \"\"\"\n",
    "\n",
    "print(generate_report(50, 72, 89))\n",
    "\n",
    "def average(values):\n",
    "    total = sum(values)\n",
    "    number_of_items = len(values)\n",
    "    return total / number_of_items\n",
    "\n",
    "average([80, 85, 81]) \n",
    "\n",
    "def generate_report(tanque_1, tanque_2, tanque_3):\n",
    "    return f\"\"\"Fuel Report:\n",
    "    Total Average: {average([tanque_1, tanque_2, tanque_3])}%\n",
    "    Main tank: {tanque_1}%\n",
    "    External tank: {tanque_2}%\n",
    "    Hydrogen tank: {tanque_3}% \n",
    "    \"\"\"\n",
    "\n",
    "print(generate_report(82, 62, 72))"
   ]
  },
  {
   "cell_type": "markdown",
   "metadata": {},
   "source": [
    "# Ejercicio 2"
   ]
  },
  {
   "cell_type": "code",
   "execution_count": 9,
   "metadata": {},
   "outputs": [
    {
     "name": "stdout",
     "output_type": "stream",
     "text": [
      "\n",
      "    Mission to Moon\n",
      "    Total travel time: 52 minutos\n",
      "    Total fuel left: 600000 galones\n",
      "    \n",
      "\n",
      "    Mission to Moon\n",
      "    Total travel time: 76 minutes\n",
      "    Total fuel left: 500000\n",
      "    \n",
      "\n",
      "    Mission to Moon\n",
      "    Total travel time: 74 minutes\n",
      "    Total fuel left: 500000\n",
      "    principal tank --> 300000 galones left\n",
      "externol tank --> 200000 galones left\n",
      "\n"
     ]
    }
   ],
   "source": [
    "def mission_report(prelanzamiento, tiempo_de_vuelo, destino, tanque_exterior, tanque_principal):\n",
    "    return f\"\"\"\n",
    "    Mission to {destino}\n",
    "    Total travel time: {prelanzamiento + tiempo_de_vuelo} minutos\n",
    "    Total fuel left: {tanque_exterior + tanque_principal} galones\n",
    "    \"\"\"\n",
    "\n",
    "print(mission_report(11, 41, \"Moon\", 250000, 350000))\n",
    "\n",
    "def mission_report(destino, *minutos, **reservas_de_combustible):\n",
    "    return f\"\"\"\n",
    "    Mission to {destino}\n",
    "    Total travel time: {sum(minutos)} minutes\n",
    "    Total fuel left: {sum(reservas_de_combustible.values())}\n",
    "    \"\"\"\n",
    "\n",
    "print(mission_report(\"Moon\", 10, 15, 51, principal=300000, externo=200000))\n",
    "\n",
    "def mission_report(destino, *minutos, **reservas_de_combustible):\n",
    "    reporte_principal = f\"\"\"\n",
    "    Mission to {destino}\n",
    "    Total travel time: {sum(minutos)} minutes\n",
    "    Total fuel left: {sum(reservas_de_combustible.values())}\n",
    "    \"\"\"\n",
    "    for nombre_del_tanque, galones in reservas_de_combustible.items():\n",
    "        reporte_principal += f\"{nombre_del_tanque} tank --> {galones} galones left\\n\"\n",
    "    return reporte_principal\n",
    "\n",
    "print(mission_report(\"Moon\", 8, 11, 55, principal=300000, externol=200000))"
   ]
  }
 ],
 "metadata": {
  "interpreter": {
   "hash": "669f5abd92f1a410df15b0643b9f42360e277a412fc08ae8bc7d7911cf7e8f3d"
  },
  "kernelspec": {
   "display_name": "Python 3.10.2 64-bit",
   "language": "python",
   "name": "python3"
  },
  "language_info": {
   "codemirror_mode": {
    "name": "ipython",
    "version": 3
   },
   "file_extension": ".py",
   "mimetype": "text/x-python",
   "name": "python",
   "nbconvert_exporter": "python",
   "pygments_lexer": "ipython3",
   "version": "3.10.2"
  },
  "orig_nbformat": 4
 },
 "nbformat": 4,
 "nbformat_minor": 2
}
