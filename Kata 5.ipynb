{
 "cells": [
  {
   "cell_type": "markdown",
   "metadata": {},
   "source": [
    "# Ejercico 1"
   ]
  },
  {
   "cell_type": "code",
   "execution_count": 2,
   "metadata": {},
   "outputs": [
    {
     "name": "stdout",
     "output_type": "stream",
     "text": [
      "628949330\n",
      "390577533.93\n"
     ]
    }
   ],
   "source": [
    "planeta_1 = 149597870\n",
    "planeta_2 = 778547200\n",
    "\n",
    "distancia_km = planeta_2 - planeta_1\n",
    "print(distancia_km)\n",
    "\n",
    "distancia_mi = distancia_km*0.621\n",
    "print(distancia_mi)"
   ]
  },
  {
   "cell_type": "markdown",
   "metadata": {},
   "source": [
    "# Ejercicio 2"
   ]
  },
  {
   "cell_type": "code",
   "execution_count": 4,
   "metadata": {},
   "outputs": [
    {
     "name": "stdout",
     "output_type": "stream",
     "text": [
      "4201\n",
      "2608.821\n"
     ]
    }
   ],
   "source": [
    "planeta_1 = 149597870\n",
    "planeta_2 = 778547200\n",
    "\n",
    "planeta_1 = input(\"Introducir la distancia del primer planeta en KM\")\n",
    "planeta_2 = input(\"Introducir la distancia del segundo planeta en KM\")\n",
    "\n",
    "planeta_1 = int(planeta_1)\n",
    "planeta_2 = int(planeta_2)\n",
    "\n",
    "distancia_km = planeta_2 - planeta_1\n",
    "print(distancia_km)\n",
    "\n",
    "distancia_mi = distancia_km*0.621\n",
    "print(distancia_mi)"
   ]
  }
 ],
 "metadata": {
  "interpreter": {
   "hash": "669f5abd92f1a410df15b0643b9f42360e277a412fc08ae8bc7d7911cf7e8f3d"
  },
  "kernelspec": {
   "display_name": "Python 3.10.2 64-bit",
   "language": "python",
   "name": "python3"
  },
  "language_info": {
   "codemirror_mode": {
    "name": "ipython",
    "version": 3
   },
   "file_extension": ".py",
   "mimetype": "text/x-python",
   "name": "python",
   "nbconvert_exporter": "python",
   "pygments_lexer": "ipython3",
   "version": "3.10.2"
  },
  "orig_nbformat": 4
 },
 "nbformat": 4,
 "nbformat_minor": 2
}
